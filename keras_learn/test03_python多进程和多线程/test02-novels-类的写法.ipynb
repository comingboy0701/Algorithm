{
 "cells": [
  {
   "cell_type": "code",
   "execution_count": 2,
   "metadata": {},
   "outputs": [],
   "source": [
    "import os\n",
    "import jieba\n",
    "import warnings\n",
    "warnings.filterwarnings('ignore')"
   ]
  },
  {
   "cell_type": "code",
   "execution_count": 3,
   "metadata": {},
   "outputs": [],
   "source": [
    "novel_path = \"金庸小说精校版/\"\n",
    "data_path = \"./\""
   ]
  },
  {
   "cell_type": "code",
   "execution_count": 4,
   "metadata": {},
   "outputs": [
    {
     "name": "stdout",
     "output_type": "stream",
     "text": [
      "1903\n",
      "['乘势', '乘机', '乘胜', '乘虚', '乘隙', '九', '也', '也好', '也就是说', '也是', '也罢', '了', '了解', '争取', '二', '二来', '二话不说', '二话没说', '于', '于是']\n"
     ]
    }
   ],
   "source": [
    "# 加载停用词表\n",
    "stop_words_file = open(data_path + \"stop_words.txt\", 'r',encoding=\"gbk\",)\n",
    "stop_words = list()\n",
    "for line in stop_words_file.readlines():\n",
    "    line = line.strip()   # 去掉每行末尾的换行符\n",
    "    stop_words.append(line)\n",
    "stop_words_file.close()\n",
    "print(len(stop_words))\n",
    "print(stop_words[300:320])"
   ]
  },
  {
   "cell_type": "markdown",
   "metadata": {},
   "source": [
    "分词前在词库中加入人物名称、武功名称、门派名称"
   ]
  },
  {
   "cell_type": "code",
   "execution_count": 5,
   "metadata": {},
   "outputs": [
    {
     "name": "stderr",
     "output_type": "stream",
     "text": [
      "Building prefix dict from the default dictionary ...\n",
      "Loading model from cache /var/folders/d9/1hp8c1n16xq2gypxpzgt_9m40000gn/T/jieba.cache\n",
      "Loading model cost 0.547 seconds.\n",
      "Prefix dict has been built successfully.\n"
     ]
    },
    {
     "name": "stdout",
     "output_type": "stream",
     "text": [
      "1237\n"
     ]
    }
   ],
   "source": [
    "# 导入金庸小说人物\n",
    "people_names_file = open(data_path + \"金庸小说全人物.txt\", 'r',encoding=\"gbk\",)\n",
    "people_names = list()\n",
    "for line in people_names_file.readlines():\n",
    "    line = line.strip()   # 去掉每行末尾的换行符\n",
    "    jieba.add_word(line)\n",
    "    people_names.append(line)\n",
    "stop_words_file.close()\n",
    "print(len(people_names))"
   ]
  },
  {
   "cell_type": "code",
   "execution_count": 6,
   "metadata": {},
   "outputs": [
    {
     "name": "stdout",
     "output_type": "stream",
     "text": [
      "389\n"
     ]
    }
   ],
   "source": [
    "# 导入金庸小说武功\n",
    "kungfu_names_file = open(data_path + \"金庸小说全武功.txt\", 'r',encoding=\"gbk\",)\n",
    "kungfu_names = list()\n",
    "for line in kungfu_names_file.readlines():\n",
    "    line = line.strip()   # 去掉每行末尾的换行符\n",
    "    jieba.add_word(line)\n",
    "    kungfu_names.append(line)\n",
    "stop_words_file.close()\n",
    "print(len(kungfu_names))"
   ]
  },
  {
   "cell_type": "code",
   "execution_count": 7,
   "metadata": {},
   "outputs": [
    {
     "name": "stdout",
     "output_type": "stream",
     "text": [
      "97\n"
     ]
    }
   ],
   "source": [
    "# 导入金庸小说门派\n",
    "sect_names_file = open(data_path + \"金庸小说全门派.txt\", 'r',encoding=\"gbk\",)\n",
    "sect_names = list()\n",
    "for line in sect_names_file.readlines():\n",
    "    line = line.strip()   # 去掉每行末尾的换行符\n",
    "    jieba.add_word(line)\n",
    "    sect_names.append(line)\n",
    "stop_words_file.close()\n",
    "print(len(sect_names))"
   ]
  },
  {
   "cell_type": "code",
   "execution_count": 8,
   "metadata": {},
   "outputs": [],
   "source": [
    "novel_names = list(os.listdir(novel_path))\n",
    "novel_names = [i for i in novel_names if i.endswith(\".txt\")]"
   ]
  },
  {
   "cell_type": "code",
   "execution_count": 9,
   "metadata": {},
   "outputs": [
    {
     "data": {
      "text/plain": [
       "['侠客行.txt',\n",
       " '射雕英雄传.txt',\n",
       " '鹿鼎记.txt',\n",
       " '越女剑.txt',\n",
       " '雪山飞狐.txt',\n",
       " '连城诀.txt',\n",
       " '飞狐外传.txt',\n",
       " '神雕侠侣.txt',\n",
       " '鸳鸯刀.txt',\n",
       " '天龙八部.txt',\n",
       " '碧血剑.txt',\n",
       " '白马啸西风.txt',\n",
       " '笑傲江湖.txt',\n",
       " '倚天屠龙记.txt',\n",
       " '书剑恩仇录.txt']"
      ]
     },
     "execution_count": 9,
     "metadata": {},
     "output_type": "execute_result"
    }
   ],
   "source": [
    "novel_names "
   ]
  },
  {
   "cell_type": "code",
   "execution_count": 12,
   "metadata": {},
   "outputs": [
    {
     "name": "stdout",
     "output_type": "stream",
     "text": [
      "Waiting for 侠客行.txt...\n",
      "Waiting for 射雕英雄传.txt...\n",
      "Waiting for 鹿鼎记.txt...\n",
      "Waiting for 越女剑.txt...\n",
      "Waiting for 雪山飞狐.txt...\n",
      "越女剑.txt finished，with 197 Row\n",
      "Waiting for 连城诀.txt...\n"
     ]
    }
   ],
   "source": [
    "from multiprocessing import Pool,Queue\n",
    "import time\n",
    "\n",
    "class test:\n",
    "    def __init__(self, novel_names):\n",
    "        self.a = novel_names\n",
    "    def run(self):\n",
    "        in_queue, out_queue = Queue(), Queue()\n",
    "        for i in self.a:\n",
    "            in_queue.put(i)\n",
    "        def f(in_queue, out_queue):\n",
    "            while not in_queue.empty():\n",
    "                novel_name = in_queue.get()\n",
    "                tmp = []\n",
    "                novel = open(novel_path + novel_name, 'r', encoding='utf-8-sig')\n",
    "                print(\"Waiting for {}...\".format(novel_name))\n",
    "                line = novel.readline()\n",
    "                while line:\n",
    "                    line_1 = line.strip()\n",
    "                    outstr = ''\n",
    "                    line_seg = jieba.cut(line_1, cut_all=False)\n",
    "                    for word in line_seg:  \n",
    "                        if word not in stop_words:\n",
    "                            if word != '\\t':\n",
    "                                if word[:2] in people_names:\n",
    "                                    word = word[:2]\n",
    "                                outstr += word \n",
    "                                outstr += \" \"\n",
    "                    if len(str(outstr.strip())) != 0:\n",
    "                        tmp.append(str(outstr.strip()).split())\n",
    "                    line = novel.readline()\n",
    "                print(\"{} finished，with {} Row\".format(novel_name, (len(tmp))))\n",
    "                out_queue.put(tmp)\n",
    "        pool = Pool(5, f, (in_queue, out_queue))\n",
    "        self.b = []\n",
    "        while len(self.b) < len(self.a):\n",
    "            if not out_queue.empty():\n",
    "                t = out_queue.get()\n",
    "                self.b.extend(t)\n",
    "        pool.terminate()\n",
    "        \n",
    "t = test(novel_names)\n",
    "t.run()"
   ]
  },
  {
   "cell_type": "code",
   "execution_count": 11,
   "metadata": {},
   "outputs": [
    {
     "name": "stdout",
     "output_type": "stream",
     "text": [
      "15\n"
     ]
    }
   ],
   "source": [
    "print(len(t.b))"
   ]
  },
  {
   "cell_type": "code",
   "execution_count": 19,
   "metadata": {},
   "outputs": [],
   "source": [
    "# print(t.b[0])"
   ]
  },
  {
   "cell_type": "code",
   "execution_count": 9,
   "metadata": {
    "scrolled": true
   },
   "outputs": [
    {
     "name": "stdout",
     "output_type": "stream",
     "text": [
      "Waiting for 侠客行.txt...\n",
      "侠客行.txt finished，with 3514 Row\n",
      "----------------------------------------\n",
      "Waiting for 射雕英雄传.txt...\n"
     ]
    },
    {
     "name": "stderr",
     "output_type": "stream",
     "text": [
      "ERROR:root:Internal Python error in the inspect module.\n",
      "Below is the traceback from this internal error.\n",
      "\n"
     ]
    },
    {
     "name": "stdout",
     "output_type": "stream",
     "text": [
      "Traceback (most recent call last):\n",
      "  File \"/Users/coming/opt/anaconda3/envs/tf21/lib/python3.6/site-packages/IPython/core/interactiveshell.py\", line 3343, in run_code\n",
      "    exec(code_obj, self.user_global_ns, self.user_ns)\n",
      "  File \"<ipython-input-9-e31290842414>\", line 14, in <module>\n",
      "    if word[:2] in people_names:\n",
      "KeyboardInterrupt\n",
      "\n",
      "During handling of the above exception, another exception occurred:\n",
      "\n",
      "Traceback (most recent call last):\n",
      "  File \"/Users/coming/opt/anaconda3/envs/tf21/lib/python3.6/site-packages/IPython/core/interactiveshell.py\", line 2044, in showtraceback\n",
      "    stb = value._render_traceback_()\n",
      "AttributeError: 'KeyboardInterrupt' object has no attribute '_render_traceback_'\n",
      "\n",
      "During handling of the above exception, another exception occurred:\n",
      "\n",
      "Traceback (most recent call last):\n",
      "  File \"/Users/coming/opt/anaconda3/envs/tf21/lib/python3.6/site-packages/IPython/core/ultratb.py\", line 1169, in get_records\n",
      "    return _fixed_getinnerframes(etb, number_of_lines_of_context, tb_offset)\n",
      "  File \"/Users/coming/opt/anaconda3/envs/tf21/lib/python3.6/site-packages/IPython/core/ultratb.py\", line 316, in wrapped\n",
      "    return f(*args, **kwargs)\n",
      "  File \"/Users/coming/opt/anaconda3/envs/tf21/lib/python3.6/site-packages/IPython/core/ultratb.py\", line 350, in _fixed_getinnerframes\n",
      "    records = fix_frame_records_filenames(inspect.getinnerframes(etb, context))\n",
      "  File \"/Users/coming/opt/anaconda3/envs/tf21/lib/python3.6/inspect.py\", line 1490, in getinnerframes\n",
      "    frameinfo = (tb.tb_frame,) + getframeinfo(tb, context)\n",
      "  File \"/Users/coming/opt/anaconda3/envs/tf21/lib/python3.6/inspect.py\", line 1448, in getframeinfo\n",
      "    filename = getsourcefile(frame) or getfile(frame)\n",
      "  File \"/Users/coming/opt/anaconda3/envs/tf21/lib/python3.6/inspect.py\", line 696, in getsourcefile\n",
      "    if getattr(getmodule(object, filename), '__loader__', None) is not None:\n",
      "  File \"/Users/coming/opt/anaconda3/envs/tf21/lib/python3.6/inspect.py\", line 742, in getmodule\n",
      "    os.path.realpath(f)] = module.__name__\n",
      "  File \"/Users/coming/opt/anaconda3/envs/tf21/lib/python3.6/posixpath.py\", line 396, in realpath\n",
      "    return abspath(path)\n",
      "  File \"/Users/coming/opt/anaconda3/envs/tf21/lib/python3.6/posixpath.py\", line 385, in abspath\n",
      "    return normpath(path)\n",
      "  File \"/Users/coming/opt/anaconda3/envs/tf21/lib/python3.6/posixpath.py\", line 370, in normpath\n",
      "    path = sep.join(comps)\n",
      "KeyboardInterrupt\n"
     ]
    },
    {
     "ename": "TypeError",
     "evalue": "object of type 'NoneType' has no len()",
     "output_type": "error",
     "traceback": [
      "\u001b[0;31m---------------------------------------------------------------------------\u001b[0m",
      "\u001b[0;31mKeyboardInterrupt\u001b[0m                         Traceback (most recent call last)",
      "    \u001b[0;31m[... skipping hidden 1 frame]\u001b[0m\n",
      "\u001b[0;32m<ipython-input-9-e31290842414>\u001b[0m in \u001b[0;36m<module>\u001b[0;34m\u001b[0m\n\u001b[1;32m     13\u001b[0m                 \u001b[0;32mif\u001b[0m \u001b[0mword\u001b[0m \u001b[0;34m!=\u001b[0m \u001b[0;34m'\\t'\u001b[0m\u001b[0;34m:\u001b[0m\u001b[0;34m\u001b[0m\u001b[0;34m\u001b[0m\u001b[0m\n\u001b[0;32m---> 14\u001b[0;31m                     \u001b[0;32mif\u001b[0m \u001b[0mword\u001b[0m\u001b[0;34m[\u001b[0m\u001b[0;34m:\u001b[0m\u001b[0;36m2\u001b[0m\u001b[0;34m]\u001b[0m \u001b[0;32min\u001b[0m \u001b[0mpeople_names\u001b[0m\u001b[0;34m:\u001b[0m\u001b[0;34m\u001b[0m\u001b[0;34m\u001b[0m\u001b[0m\n\u001b[0m\u001b[1;32m     15\u001b[0m                         \u001b[0mword\u001b[0m \u001b[0;34m=\u001b[0m \u001b[0mword\u001b[0m\u001b[0;34m[\u001b[0m\u001b[0;34m:\u001b[0m\u001b[0;36m2\u001b[0m\u001b[0;34m]\u001b[0m\u001b[0;34m\u001b[0m\u001b[0;34m\u001b[0m\u001b[0m\n",
      "\u001b[0;31mKeyboardInterrupt\u001b[0m: ",
      "\nDuring handling of the above exception, another exception occurred:\n",
      "\u001b[0;31mAttributeError\u001b[0m                            Traceback (most recent call last)",
      "\u001b[0;32m~/opt/anaconda3/envs/tf21/lib/python3.6/site-packages/IPython/core/interactiveshell.py\u001b[0m in \u001b[0;36mshowtraceback\u001b[0;34m(self, exc_tuple, filename, tb_offset, exception_only, running_compiled_code)\u001b[0m\n\u001b[1;32m   2043\u001b[0m                         \u001b[0;31m# in the engines. This should return a list of strings.\u001b[0m\u001b[0;34m\u001b[0m\u001b[0;34m\u001b[0m\u001b[0;34m\u001b[0m\u001b[0m\n\u001b[0;32m-> 2044\u001b[0;31m                         \u001b[0mstb\u001b[0m \u001b[0;34m=\u001b[0m \u001b[0mvalue\u001b[0m\u001b[0;34m.\u001b[0m\u001b[0m_render_traceback_\u001b[0m\u001b[0;34m(\u001b[0m\u001b[0;34m)\u001b[0m\u001b[0;34m\u001b[0m\u001b[0;34m\u001b[0m\u001b[0m\n\u001b[0m\u001b[1;32m   2045\u001b[0m                     \u001b[0;32mexcept\u001b[0m \u001b[0mException\u001b[0m\u001b[0;34m:\u001b[0m\u001b[0;34m\u001b[0m\u001b[0;34m\u001b[0m\u001b[0m\n",
      "\u001b[0;31mAttributeError\u001b[0m: 'KeyboardInterrupt' object has no attribute '_render_traceback_'",
      "\nDuring handling of the above exception, another exception occurred:\n",
      "\u001b[0;31mTypeError\u001b[0m                                 Traceback (most recent call last)",
      "    \u001b[0;31m[... skipping hidden 1 frame]\u001b[0m\n",
      "\u001b[0;32m~/opt/anaconda3/envs/tf21/lib/python3.6/site-packages/IPython/core/interactiveshell.py\u001b[0m in \u001b[0;36mshowtraceback\u001b[0;34m(self, exc_tuple, filename, tb_offset, exception_only, running_compiled_code)\u001b[0m\n\u001b[1;32m   2045\u001b[0m                     \u001b[0;32mexcept\u001b[0m \u001b[0mException\u001b[0m\u001b[0;34m:\u001b[0m\u001b[0;34m\u001b[0m\u001b[0;34m\u001b[0m\u001b[0m\n\u001b[1;32m   2046\u001b[0m                         stb = self.InteractiveTB.structured_traceback(etype,\n\u001b[0;32m-> 2047\u001b[0;31m                                             value, tb, tb_offset=tb_offset)\n\u001b[0m\u001b[1;32m   2048\u001b[0m \u001b[0;34m\u001b[0m\u001b[0m\n\u001b[1;32m   2049\u001b[0m                     \u001b[0mself\u001b[0m\u001b[0;34m.\u001b[0m\u001b[0m_showtraceback\u001b[0m\u001b[0;34m(\u001b[0m\u001b[0metype\u001b[0m\u001b[0;34m,\u001b[0m \u001b[0mvalue\u001b[0m\u001b[0;34m,\u001b[0m \u001b[0mstb\u001b[0m\u001b[0;34m)\u001b[0m\u001b[0;34m\u001b[0m\u001b[0;34m\u001b[0m\u001b[0m\n",
      "\u001b[0;32m~/opt/anaconda3/envs/tf21/lib/python3.6/site-packages/IPython/core/ultratb.py\u001b[0m in \u001b[0;36mstructured_traceback\u001b[0;34m(self, etype, value, tb, tb_offset, number_of_lines_of_context)\u001b[0m\n\u001b[1;32m   1434\u001b[0m             \u001b[0mself\u001b[0m\u001b[0;34m.\u001b[0m\u001b[0mtb\u001b[0m \u001b[0;34m=\u001b[0m \u001b[0mtb\u001b[0m\u001b[0;34m\u001b[0m\u001b[0;34m\u001b[0m\u001b[0m\n\u001b[1;32m   1435\u001b[0m         return FormattedTB.structured_traceback(\n\u001b[0;32m-> 1436\u001b[0;31m             self, etype, value, tb, tb_offset, number_of_lines_of_context)\n\u001b[0m\u001b[1;32m   1437\u001b[0m \u001b[0;34m\u001b[0m\u001b[0m\n\u001b[1;32m   1438\u001b[0m \u001b[0;34m\u001b[0m\u001b[0m\n",
      "\u001b[0;32m~/opt/anaconda3/envs/tf21/lib/python3.6/site-packages/IPython/core/ultratb.py\u001b[0m in \u001b[0;36mstructured_traceback\u001b[0;34m(self, etype, value, tb, tb_offset, number_of_lines_of_context)\u001b[0m\n\u001b[1;32m   1334\u001b[0m             \u001b[0;31m# Verbose modes need a full traceback\u001b[0m\u001b[0;34m\u001b[0m\u001b[0;34m\u001b[0m\u001b[0;34m\u001b[0m\u001b[0m\n\u001b[1;32m   1335\u001b[0m             return VerboseTB.structured_traceback(\n\u001b[0;32m-> 1336\u001b[0;31m                 \u001b[0mself\u001b[0m\u001b[0;34m,\u001b[0m \u001b[0metype\u001b[0m\u001b[0;34m,\u001b[0m \u001b[0mvalue\u001b[0m\u001b[0;34m,\u001b[0m \u001b[0mtb\u001b[0m\u001b[0;34m,\u001b[0m \u001b[0mtb_offset\u001b[0m\u001b[0;34m,\u001b[0m \u001b[0mnumber_of_lines_of_context\u001b[0m\u001b[0;34m\u001b[0m\u001b[0;34m\u001b[0m\u001b[0m\n\u001b[0m\u001b[1;32m   1337\u001b[0m             )\n\u001b[1;32m   1338\u001b[0m         \u001b[0;32melif\u001b[0m \u001b[0mmode\u001b[0m \u001b[0;34m==\u001b[0m \u001b[0;34m'Minimal'\u001b[0m\u001b[0;34m:\u001b[0m\u001b[0;34m\u001b[0m\u001b[0;34m\u001b[0m\u001b[0m\n",
      "\u001b[0;32m~/opt/anaconda3/envs/tf21/lib/python3.6/site-packages/IPython/core/ultratb.py\u001b[0m in \u001b[0;36mstructured_traceback\u001b[0;34m(self, etype, evalue, etb, tb_offset, number_of_lines_of_context)\u001b[0m\n\u001b[1;32m   1191\u001b[0m \u001b[0;34m\u001b[0m\u001b[0m\n\u001b[1;32m   1192\u001b[0m         formatted_exception = self.format_exception_as_a_whole(etype, evalue, etb, number_of_lines_of_context,\n\u001b[0;32m-> 1193\u001b[0;31m                                                                tb_offset)\n\u001b[0m\u001b[1;32m   1194\u001b[0m \u001b[0;34m\u001b[0m\u001b[0m\n\u001b[1;32m   1195\u001b[0m         \u001b[0mcolors\u001b[0m \u001b[0;34m=\u001b[0m \u001b[0mself\u001b[0m\u001b[0;34m.\u001b[0m\u001b[0mColors\u001b[0m  \u001b[0;31m# just a shorthand + quicker name lookup\u001b[0m\u001b[0;34m\u001b[0m\u001b[0;34m\u001b[0m\u001b[0m\n",
      "\u001b[0;32m~/opt/anaconda3/envs/tf21/lib/python3.6/site-packages/IPython/core/ultratb.py\u001b[0m in \u001b[0;36mformat_exception_as_a_whole\u001b[0;34m(self, etype, evalue, etb, number_of_lines_of_context, tb_offset)\u001b[0m\n\u001b[1;32m   1148\u001b[0m \u001b[0;34m\u001b[0m\u001b[0m\n\u001b[1;32m   1149\u001b[0m \u001b[0;34m\u001b[0m\u001b[0m\n\u001b[0;32m-> 1150\u001b[0;31m         \u001b[0mlast_unique\u001b[0m\u001b[0;34m,\u001b[0m \u001b[0mrecursion_repeat\u001b[0m \u001b[0;34m=\u001b[0m \u001b[0mfind_recursion\u001b[0m\u001b[0;34m(\u001b[0m\u001b[0morig_etype\u001b[0m\u001b[0;34m,\u001b[0m \u001b[0mevalue\u001b[0m\u001b[0;34m,\u001b[0m \u001b[0mrecords\u001b[0m\u001b[0;34m)\u001b[0m\u001b[0;34m\u001b[0m\u001b[0;34m\u001b[0m\u001b[0m\n\u001b[0m\u001b[1;32m   1151\u001b[0m \u001b[0;34m\u001b[0m\u001b[0m\n\u001b[1;32m   1152\u001b[0m         \u001b[0mframes\u001b[0m \u001b[0;34m=\u001b[0m \u001b[0mself\u001b[0m\u001b[0;34m.\u001b[0m\u001b[0mformat_records\u001b[0m\u001b[0;34m(\u001b[0m\u001b[0mrecords\u001b[0m\u001b[0;34m,\u001b[0m \u001b[0mlast_unique\u001b[0m\u001b[0;34m,\u001b[0m \u001b[0mrecursion_repeat\u001b[0m\u001b[0;34m)\u001b[0m\u001b[0;34m\u001b[0m\u001b[0;34m\u001b[0m\u001b[0m\n",
      "\u001b[0;32m~/opt/anaconda3/envs/tf21/lib/python3.6/site-packages/IPython/core/ultratb.py\u001b[0m in \u001b[0;36mfind_recursion\u001b[0;34m(etype, value, records)\u001b[0m\n\u001b[1;32m    449\u001b[0m     \u001b[0;31m# first frame (from in to out) that looks different.\u001b[0m\u001b[0;34m\u001b[0m\u001b[0;34m\u001b[0m\u001b[0;34m\u001b[0m\u001b[0m\n\u001b[1;32m    450\u001b[0m     \u001b[0;32mif\u001b[0m \u001b[0;32mnot\u001b[0m \u001b[0mis_recursion_error\u001b[0m\u001b[0;34m(\u001b[0m\u001b[0metype\u001b[0m\u001b[0;34m,\u001b[0m \u001b[0mvalue\u001b[0m\u001b[0;34m,\u001b[0m \u001b[0mrecords\u001b[0m\u001b[0;34m)\u001b[0m\u001b[0;34m:\u001b[0m\u001b[0;34m\u001b[0m\u001b[0;34m\u001b[0m\u001b[0m\n\u001b[0;32m--> 451\u001b[0;31m         \u001b[0;32mreturn\u001b[0m \u001b[0mlen\u001b[0m\u001b[0;34m(\u001b[0m\u001b[0mrecords\u001b[0m\u001b[0;34m)\u001b[0m\u001b[0;34m,\u001b[0m \u001b[0;36m0\u001b[0m\u001b[0;34m\u001b[0m\u001b[0;34m\u001b[0m\u001b[0m\n\u001b[0m\u001b[1;32m    452\u001b[0m \u001b[0;34m\u001b[0m\u001b[0m\n\u001b[1;32m    453\u001b[0m     \u001b[0;31m# Select filename, lineno, func_name to track frames with\u001b[0m\u001b[0;34m\u001b[0m\u001b[0;34m\u001b[0m\u001b[0;34m\u001b[0m\u001b[0m\n",
      "\u001b[0;31mTypeError\u001b[0m: object of type 'NoneType' has no len()"
     ]
    }
   ],
   "source": [
    "seg_novel = []\n",
    "for novel_name in novel_names:\n",
    "    novel = open(novel_path + novel_name, 'r', encoding='utf-8-sig')\n",
    "    print(\"Waiting for {}...\".format(novel_name))\n",
    "    line = novel.readline()\n",
    "    forward_rows = len(seg_novel)\n",
    "    while line:\n",
    "        line_1 = line.strip()\n",
    "        outstr = ''\n",
    "        line_seg = jieba.cut(line_1, cut_all=False)\n",
    "        for word in line_seg:  \n",
    "            if word not in stop_words:\n",
    "                if word != '\\t':\n",
    "                    if word[:2] in people_names:\n",
    "                        word = word[:2]\n",
    "                    outstr += word \n",
    "                    outstr += \" \"\n",
    "        if len(str(outstr.strip())) != 0:\n",
    "            seg_novel.append(str(outstr.strip()).split())\n",
    "        line = novel.readline()\n",
    "    print(\"{} finished，with {} Row\".format(novel_name, (len(seg_novel) - forward_rows)))\n",
    "    print(\"-\" * 40)\n",
    "print(\"-\" * 40)\n",
    "print(\"-\" * 40)\n",
    "print(\"All finished，with {} Row\".format(len(seg_novel)))"
   ]
  },
  {
   "cell_type": "code",
   "execution_count": 25,
   "metadata": {
    "scrolled": true
   },
   "outputs": [
    {
     "name": "stdout",
     "output_type": "stream",
     "text": [
      "['东南', '形胜', '吴', '钱塘', '自古', '繁华', '烟柳', '画桥', '风帘翠', '幙', '参差', '十万', '云树绕', '堤沙', '怒涛', '卷', '霜雪', '天堑', '无涯', '市列', '珠玑', '户盈', '罗绮', '竞', '豪奢', '重湖', '叠', '山献', '清佳', '三秋', '桂子', '十里', '荷花', '羌管', '弄', '晴', '菱歌', '泛夜', '嬉嬉', '钓叟莲娃', '千骑', '拥高牙', '乘醉', '听', '箫', '鼓', '吟赏', '烟霞', '异日图', '好景', '归去', '凤池', '夸']\n",
      "['郭靖', '懂', '咿', '咿', '地唱些', '但觉', '牙板', '轻击', '箫声', '悠扬', '甚', '动听', '一曲', '已毕', '完颜洪烈', '杨康', '齐声', '赞道', '唱得', '歌妓', '道谢', '喜气洋洋', '乐师', '想', '完颜洪烈', '赏得']\n",
      "['听', '完颜洪烈', '孩儿', '柳永', '一首', '海潮', '词', '大金国', '一段', '因缘', '杨康', '孩儿', '不知', '请', '爹爹']\n",
      "['郭靖', '黄蓉', '完颜洪烈', '做', '爹爹', '语气', '间', '亲热', '相互', '一眼', '郭靖', '气恼', '难受', '恨不得', '揪住', '问个', '明白']\n",
      "['听', '完颜洪烈', '我大金', '正隆', '年间', '我大', '金主', '金主亮', '见到', '柳永', '这首词', '西湖', '风景', '欣然', '有慕', '派遣', '使者', '南下', '时', '派', '著名', '画工', '摹写', '一幅', '临安', '城', '山水', '图画', '金主', '状貌', '策马', '立在', '临安', '城内', '吴山之', '顶', '金主', '画', '题诗', '万里', '车书', '混同', '江南', '别疆封', '提兵', '百万', '西湖', '吴山', '第一峰', '杨康', '赞道', '豪壮', '气概', '郭靖', '恼怒', '之极', '捏', '手指', '格格直', '响']\n",
      "['完颜洪烈', '叹', '金主亮', '提兵', '南征', '吴山之', '志', '不酬', '这番', '投鞭', '渡江', '豪气', '却是', '做', '子孙', '效法', '扇子', '题诗', '大柄', '在手', '清风', '满天下', '这是', '何等', '志向', '杨康', '吟道', '大柄', '在手', '清风', '满天下', '言下', '甚', '神往', '欧阳锋', '干笑', '数声', '日', '王爷', '大柄', '在手', '吴山之', '志', '定然', '可酬']\n",
      "['完颜洪烈', '悄声', '所说', '耳目众多', '饮酒', '三人', '转过', '话题', '说些', '景物', '见闻', '风土人情']\n",
      "['黄蓉', '郭靖', '边道', '喝得', '酒儿', '偏', '两人', '溜', '出阁', '子', '来到', '后园', '黄蓉', '晃动', '火折', '点燃', '柴房中', '柴草', '四下', '放', '起火']\n",
      "['一刻', '火头', '蹿', '刹那间', '人声鼎沸', '大叫', '走水', '救火', '听', '铜锣', '当当乱', '敲', '黄蓉', '快到', '莫再', '走得', '不知去向', '郭靖', '恨', '恨', '地道', '今晚', '刺杀', '完颜洪烈', '奸贼', '黄蓉', '先', '陪', '师父', '进宫', '大吃一顿', '约', '老顽童', '敌住', '西毒', '对付', '两个', '奸贼', '郭靖', '不错', '两人', '丛中', '挤', '楼前', '恰见', '完颜洪烈', '欧阳锋', '杨康', '三人', '酒楼', '中', '两人远', '穿街过巷', '进', '西', '市场', '冠盖', '居', '客店']\n",
      "['两人', '客店', '外', '良久', '完颜洪烈', '必是', '住', '这家', '店中', '黄蓉', '回去', '待会', '约', '老顽童', '找', '晦气', '回到', '锦华', '居']\n"
     ]
    }
   ],
   "source": [
    "for line in seg_novel[30000:30010]:\n",
    "    print(line)"
   ]
  },
  {
   "cell_type": "code",
   "execution_count": 26,
   "metadata": {},
   "outputs": [],
   "source": [
    "import gensim.models as w2v"
   ]
  },
  {
   "cell_type": "code",
   "execution_count": 27,
   "metadata": {},
   "outputs": [],
   "source": [
    "model = w2v.Word2Vec(sentences=seg_novel, size=200, window=5, min_count=5, workers=4, sg=1)"
   ]
  },
  {
   "cell_type": "code",
   "execution_count": 28,
   "metadata": {},
   "outputs": [],
   "source": [
    "# 寻找相似关系\n",
    "def find_relation(a, b, c):\n",
    "    d, _ = model.most_similar(positive=[c, b], negative=[a])[0]\n",
    "    print (c,d)"
   ]
  },
  {
   "cell_type": "code",
   "execution_count": 38,
   "metadata": {},
   "outputs": [
    {
     "name": "stdout",
     "output_type": "stream",
     "text": [
      "天地会 陈近南\n"
     ]
    }
   ],
   "source": [
    "find_relation(\"武当派\",\"张三丰\",\"天地会\")"
   ]
  },
  {
   "cell_type": "code",
   "execution_count": 30,
   "metadata": {},
   "outputs": [
    {
     "data": {
      "text/plain": [
       "[('赵敏', 0.5751789212226868),\n",
       " ('周芷若', 0.537672221660614),\n",
       " ('杨逍', 0.5256727337837219),\n",
       " ('小昭', 0.5213794112205505),\n",
       " ('东方不败', 0.4729505479335785),\n",
       " ('波斯', 0.46848881244659424),\n",
       " ('范遥', 0.4617539048194885),\n",
       " ('韦一笑', 0.4586241841316223),\n",
       " ('任我行', 0.4548007845878601),\n",
       " ('明教', 0.45135754346847534)]"
      ]
     },
     "execution_count": 30,
     "metadata": {},
     "output_type": "execute_result"
    }
   ],
   "source": [
    "model.most_similar(\"张无忌\", topn=10)"
   ]
  },
  {
   "cell_type": "code",
   "execution_count": 31,
   "metadata": {},
   "outputs": [],
   "source": [
    "model.save(data_path + 'all_skip_gram.model')"
   ]
  },
  {
   "cell_type": "code",
   "execution_count": 32,
   "metadata": {},
   "outputs": [],
   "source": [
    "model = w2v.Word2Vec.load(data_path + 'all_skip_gram.model')"
   ]
  },
  {
   "cell_type": "code",
   "execution_count": 33,
   "metadata": {},
   "outputs": [
    {
     "name": "stdout",
     "output_type": "stream",
     "text": [
      "0.53767216\n",
      "0.575179\n"
     ]
    }
   ],
   "source": [
    "print(model.similarity('张无忌', '周芷若'))\n",
    "print(model.similarity('张无忌', '赵敏'))"
   ]
  },
  {
   "cell_type": "code",
   "execution_count": 34,
   "metadata": {},
   "outputs": [
    {
     "name": "stdout",
     "output_type": "stream",
     "text": [
      "[('多隆', 0.558411180973053), ('索额图', 0.5404623746871948), ('康熙', 0.5350710153579712), ('小桂子', 0.528827428817749), ('建宁公主', 0.5188446640968323), ('奴才', 0.5129232406616211), ('施琅', 0.511640727519989), ('双儿', 0.5040061473846436), ('太监', 0.4895724058151245), ('苏菲亚', 0.48741617798805237)]\n"
     ]
    }
   ],
   "source": [
    "print(model.most_similar(\"韦小宝\", topn=10))"
   ]
  },
  {
   "cell_type": "code",
   "execution_count": 35,
   "metadata": {},
   "outputs": [
    {
     "data": {
      "text/plain": [
       "[('宝典', 0.8510153293609619),\n",
       " ('神通', 0.8482961654663086),\n",
       " ('窥', 0.8437038660049438),\n",
       " ('研习', 0.8386595249176025),\n",
       " ('所记', 0.8381162881851196),\n",
       " ('先天功', 0.8362185955047607),\n",
       " ('功诀', 0.8350870609283447),\n",
       " ('参悟', 0.8318731784820557),\n",
       " ('华山论剑', 0.8313177824020386),\n",
       " ('林朝英', 0.8311183452606201)]"
      ]
     },
     "execution_count": 35,
     "metadata": {},
     "output_type": "execute_result"
    }
   ],
   "source": [
    "model.most_similar(\"王重阳\", topn=10)"
   ]
  },
  {
   "cell_type": "code",
   "execution_count": 36,
   "metadata": {},
   "outputs": [
    {
     "name": "stdout",
     "output_type": "stream",
     "text": [
      "0.34928897\n",
      "0.50400615\n",
      "0.51884466\n",
      "0.45665407\n",
      "0.36300948\n",
      "0.3843639\n",
      "0.41635066\n"
     ]
    }
   ],
   "source": [
    "print(model.similarity('韦小宝', '阿珂'))\n",
    "print(model.similarity('韦小宝', '双儿'))\n",
    "print(model.similarity('韦小宝', '建宁公主'))\n",
    "print(model.similarity('韦小宝', '苏荃'))\n",
    "print(model.similarity('韦小宝', '沐剑屏'))\n",
    "print(model.similarity('韦小宝', '曾柔'))\n",
    "print(model.similarity('韦小宝', '方怡'))"
   ]
  },
  {
   "cell_type": "code",
   "execution_count": 37,
   "metadata": {},
   "outputs": [
    {
     "name": "stdout",
     "output_type": "stream",
     "text": [
      "乔峰 阿朱\n"
     ]
    }
   ],
   "source": [
    "find_relation(\"杨过\",\"小龙女\",\"乔峰\")"
   ]
  }
 ],
 "metadata": {
  "kernelspec": {
   "display_name": "tf21",
   "language": "python",
   "name": "tf21"
  },
  "language_info": {
   "codemirror_mode": {
    "name": "ipython",
    "version": 3
   },
   "file_extension": ".py",
   "mimetype": "text/x-python",
   "name": "python",
   "nbconvert_exporter": "python",
   "pygments_lexer": "ipython3",
   "version": "3.6.10"
  }
 },
 "nbformat": 4,
 "nbformat_minor": 4
}
